{
 "cells": [
  {
   "cell_type": "markdown",
   "id": "peripheral-sandwich",
   "metadata": {},
   "source": [
    "## Import Packages & Run Queries of Base Data"
   ]
  },
  {
   "cell_type": "code",
   "execution_count": 16,
   "id": "earlier-mission",
   "metadata": {
    "ExecuteTime": {
     "end_time": "2022-10-03T12:35:04.510544Z",
     "start_time": "2022-10-03T12:35:04.478996Z"
    },
    "scrolled": true
   },
   "outputs": [
    {
     "name": "stdout",
     "output_type": "stream",
     "text": [
      "secret saved to /opt/app-root/src/.config/gspread_pandas/google_secret.json\n",
      "secret saved to /opt/app-root/src/.config/gspread_pandas/creds/jgooley\n"
     ]
    }
   ],
   "source": [
    "import rhutils as ds\n",
    "import pandas as pd\n",
    "import numpy as np\n",
    "from datetime import datetime\n",
    "from datetime import date\n",
    "from dateutil.relativedelta import relativedelta"
   ]
  },
  {
   "cell_type": "code",
   "execution_count": 2,
   "id": "athletic-cookie",
   "metadata": {
    "ExecuteTime": {
     "end_time": "2022-10-03T12:34:32.481769Z",
     "start_time": "2022-10-03T12:34:16.695986Z"
    }
   },
   "outputs": [
    {
     "name": "stdout",
     "output_type": "stream",
     "text": [
      "Using default environment variable DS_RS_USER\n",
      "Using default environment variable DS_RS_PASS\n"
     ]
    }
   ],
   "source": [
    "pipe = ds.query_RS(\"\"\"\n",
    "(SELECT \n",
    "    snapshot_date,\n",
    "    CASE WHEN product_line LIKE '%TAM%' THEN 'TAM' ELSE product_forecast_group END AS cs_product_group,\n",
    "    reporting_services_geo,\n",
    "    account_segment,\n",
    "    snapshot_date_fiscal_year_quarter_q close_yr_q,\n",
    "    snapshot_date_day_of_fiscal_quarter_number day_of_q,\n",
    "    ROUND(SUM(CASE WHEN opportunity_forecast_category_h = 'Closed' THEN syb_amount_usd_cy_pr ELSE 0 END),0) closed_syb,\n",
    "    ROUND(SUM(CASE WHEN opportunity_forecast_category_h = 'Commit' THEN syb_amount_usd_cy_pr ELSE 0 END),0) commit_syb,\n",
    "    ROUND(SUM(CASE WHEN opportunity_forecast_category_h = 'Best Case' THEN syb_amount_usd_cy_pr ELSE 0 END),0) bestcase_syb,\n",
    "    ROUND(SUM(CASE WHEN opportunity_forecast_category_h = 'Pipeline' THEN syb_amount_usd_cy_pr ELSE 0 END),0) pipeline_syb\n",
    "FROM bf_ard.core_global_pipeline_snapshot_daily_pq\n",
    "WHERE \n",
    "    cs_product_group IN ('CONSULTING', 'TRAINING','TAM')\n",
    "    AND opportunity_split_type_h = 'Bookings'\n",
    "    AND snapshot_date >= '2020-04-01'\n",
    "    AND reporting_services_geo IN ('NA Comm','NA Public Sector','LATAM', 'EMEA', 'APAC')\n",
    "    AND snapshot_date_fiscal_year_quarter_q = opportunity_close_date_fiscal_year_quarter_q\n",
    "GROUP BY 1,2,3,4,5,6)\n",
    "UNION\n",
    "(SELECT \n",
    "    snapshot_date,\n",
    "    CASE WHEN product_line LIKE '%TAM%' THEN 'TAM' ELSE product_forecast_group END AS cs_product_group,\n",
    "    reporting_services_geo,\n",
    "    account_segment,\n",
    "    snapshot_date_fiscal_year_quarter_q close_yr_q,\n",
    "    snapshot_date_day_of_fiscal_quarter_number day_of_q,\n",
    "    ROUND(SUM(CASE WHEN opportunity_forecast_category_h = 'Closed' THEN syb_amount_usd_cy_pr ELSE 0 END),0) closed_syb,\n",
    "    ROUND(SUM(CASE WHEN opportunity_forecast_category_h = 'Commit' THEN syb_amount_usd_cy_pr ELSE 0 END),0) commit_syb,\n",
    "    ROUND(SUM(CASE WHEN opportunity_forecast_category_h = 'Best Case' THEN syb_amount_usd_cy_pr ELSE 0 END),0) bestcase_syb,\n",
    "    ROUND(SUM(CASE WHEN opportunity_forecast_category_h = 'Pipeline' THEN syb_amount_usd_cy_pr ELSE 0 END),0) pipeline_syb\n",
    "FROM bf_ard.core_global_pipeline_snapshot_daily_cq\n",
    "WHERE \n",
    "    cs_product_group IN ('CONSULTING', 'TRAINING','TAM')\n",
    "    AND opportunity_split_type_h = 'Bookings'\n",
    "    AND reporting_services_geo IN ('NA Comm','NA Public Sector','LATAM', 'EMEA', 'APAC')\n",
    "    AND snapshot_date_fiscal_year_quarter_q = opportunity_close_date_fiscal_year_quarter_q\n",
    "GROUP BY 1,2,3,4,5,6)\n",
    "ORDER BY 1,2,3,4,5,6\"\"\")\n",
    "\n",
    "pipe['snapshot_date'] = pd.to_datetime(pipe['snapshot_date'])\n",
    "pipe['open_pipe'] = pipe['commit_syb'] + pipe['bestcase_syb'] + pipe['pipeline_syb']"
   ]
  },
  {
   "cell_type": "code",
   "execution_count": 3,
   "id": "greenhouse-reconstruction",
   "metadata": {
    "ExecuteTime": {
     "end_time": "2022-10-03T12:34:32.633730Z",
     "start_time": "2022-10-03T12:34:32.483588Z"
    }
   },
   "outputs": [
    {
     "name": "stdout",
     "output_type": "stream",
     "text": [
      "Using default environment variable DS_RS_USER\n",
      "Using default environment variable DS_RS_PASS\n"
     ]
    }
   ],
   "source": [
    "actuals = ds.query_RS(\"\"\"\n",
    "SELECT\n",
    "    CASE WHEN product_line LIKE '%TAM%' THEN 'TAM' ELSE product_forecast_group END AS cs_product_group,\n",
    "    reporting_services_geo,\n",
    "    account_segment_h,\n",
    "    opportunity_close_date_fiscal_year_quarter_q close_yr_q,\n",
    "    ROUND(SUM(syb_amount_usd_cy_pr),0) actual_syb\n",
    "FROM bf_ard.core_global_historical_bookings\n",
    "WHERE \n",
    "    cs_product_group IN ('CONSULTING', 'TRAINING','TAM')\n",
    "    AND opportunity_close_date >= '2020-04-01'\n",
    "    AND reporting_services_geo IN ('NA Comm','NA Public Sector','LATAM', 'EMEA', 'APAC')\n",
    "GROUP BY 1,2,3,4\n",
    "ORDER BY 1,2,3,4\"\"\")"
   ]
  },
  {
   "cell_type": "code",
   "execution_count": 4,
   "id": "proper-sender",
   "metadata": {
    "ExecuteTime": {
     "end_time": "2022-10-03T12:34:32.801897Z",
     "start_time": "2022-10-03T12:34:32.636031Z"
    }
   },
   "outputs": [
    {
     "name": "stdout",
     "output_type": "stream",
     "text": [
      "Using default environment variable DS_RS_USER\n",
      "Using default environment variable DS_RS_PASS\n"
     ]
    }
   ],
   "source": [
    "targets = ds.query_RS(\"\"\"\n",
    "SELECT\n",
    "    forecast_product_group,\n",
    "    CASE \n",
    "        WHEN geo = 'North America' AND region = 'NAPS' THEN 'NA Public Sector' \n",
    "        WHEN geo = 'North America' AND region <> 'NAPS' THEN 'NA Comm'\n",
    "        ELSE geo\n",
    "    END AS geo,\n",
    "    segment,\n",
    "    calendar_year || '-Q' || calendar_qtr date_qtr,\n",
    "    ROUND(SUM(syb_usd__rh_plan_rate_)) target_syb\n",
    "FROM rsds_ops_planning.target_bookings_calendar_year\n",
    "WHERE forecast_product_group IN ('CONSULTING','TRAINING')\n",
    "GROUP BY 1,2,3,4\n",
    "ORDER BY 1,2,3,4\"\"\")\n",
    "\n",
    "#TAM\n",
    "tam_targets = pd.DataFrame([['TAM','NA Comm','2022-Q1',6400703],\n",
    "['TAM','NA Comm','2022-Q2',3901582],\n",
    "['TAM','NA Comm','2022-Q3',4745167],\n",
    "['TAM','NA Comm','2022-Q4',6917399],\n",
    "['TAM','NA Public Sector','2022-Q1',3343839],\n",
    "['TAM','NA Public Sector','2022-Q2',1010653],\n",
    "['TAM','NA Public Sector','2022-Q3',3265226],\n",
    "['TAM','NA Public Sector','2022-Q4',2475684],\n",
    "['TAM','EMEA','2022-Q1',3357002],\n",
    "['TAM','EMEA','2022-Q2',3538016],\n",
    "['TAM','EMEA','2022-Q3',3916502],\n",
    "['TAM','EMEA','2022-Q4',6960842],\n",
    "['TAM','APAC','2022-Q1',2837915],\n",
    "['TAM','APAC','2022-Q2',3165497],\n",
    "['TAM','APAC','2022-Q3',3129488],\n",
    "['TAM','APAC','2022-Q4',3593451],\n",
    "['TAM','LATAM','2022-Q1',2703608],\n",
    "['TAM','LATAM','2022-Q2',1478536],\n",
    "['TAM','LATAM','2022-Q3',1520780],\n",
    "['TAM','LATAM','2022-Q4',1816487]],columns = ['cs_product_group','geo','date_qtr','target_syb']\n",
    ")"
   ]
  },
  {
   "cell_type": "code",
   "execution_count": 5,
   "id": "talented-point",
   "metadata": {
    "ExecuteTime": {
     "end_time": "2022-10-03T12:34:32.806770Z",
     "start_time": "2022-10-03T12:34:32.803528Z"
    }
   },
   "outputs": [
    {
     "name": "stderr",
     "output_type": "stream",
     "text": [
      "/opt/app-root/lib/python3.6/site-packages/ipykernel_launcher.py:1: FutureWarning:\n",
      "\n",
      "The pandas.datetime class is deprecated and will be removed from pandas in a future version. Import from datetime instead.\n",
      "\n"
     ]
    }
   ],
   "source": [
    "quarter_start = pd.to_datetime(pd.datetime.today() - pd.tseries.offsets.QuarterBegin(startingMonth=1))\n",
    "quarter_start = quarter_start.normalize()"
   ]
  },
  {
   "cell_type": "markdown",
   "id": "sufficient-concern",
   "metadata": {},
   "source": [
    "## Run All Services Forecasts"
   ]
  },
  {
   "cell_type": "code",
   "execution_count": 6,
   "id": "numerous-store",
   "metadata": {
    "ExecuteTime": {
     "end_time": "2022-10-03T12:34:32.884675Z",
     "start_time": "2022-10-03T12:34:32.808151Z"
    }
   },
   "outputs": [],
   "source": [
    "#Filter Data to Services Only, Merge Data\n",
    "services_pipe = pipe.copy()[pipe['cs_product_group'].isin(['CONSULTING','TRAINING'])]\n",
    "services_actuals = actuals.copy()[actuals['cs_product_group'].isin(['CONSULTING','TRAINING'])]\n",
    "services_targets = targets.copy()[targets['forecast_product_group'].isin(['CONSULTING','TRAINING'])]\n",
    "services_df = services_pipe.merge(services_actuals,how='left',\n",
    "                                  left_on=['cs_product_group','close_yr_q','reporting_services_geo','account_segment'],\n",
    "                                 right_on=['cs_product_group','close_yr_q','reporting_services_geo','account_segment_h'])\n",
    "services_df = services_df.merge(services_targets,how='left',\n",
    "                                left_on=['cs_product_group','close_yr_q','reporting_services_geo','account_segment'],\n",
    "                                 right_on=['forecast_product_group','date_qtr','geo','segment'])\n",
    "services_df['final_syb'] = np.where(services_df['snapshot_date']>=quarter_start,services_df['target_syb'],services_df['actual_syb'])\n",
    "services_df['quarter_number'] = services_df['close_yr_q'].str[-1:]\n",
    "services_df = services_df[['snapshot_date','cs_product_group','reporting_services_geo','account_segment',\n",
    "                           'close_yr_q','quarter_number','day_of_q','closed_syb','commit_syb','bestcase_syb',\n",
    "                           'pipeline_syb','open_pipe','final_syb']][~services_df['account_segment'].isin(['Unsegmented',None])]"
   ]
  },
  {
   "cell_type": "code",
   "execution_count": 7,
   "id": "applied-activity",
   "metadata": {
    "ExecuteTime": {
     "end_time": "2022-10-03T12:34:32.888878Z",
     "start_time": "2022-10-03T12:34:32.886034Z"
    }
   },
   "outputs": [],
   "source": [
    "#Define Function to get Power Set\n",
    "def powerset(s):\n",
    "    x = len(s)\n",
    "    for i in range(1 << x):\n",
    "        yield [s[j] for j in range(x) if (i & (1 << j))]"
   ]
  },
  {
   "cell_type": "code",
   "execution_count": 8,
   "id": "bound-buffer",
   "metadata": {
    "ExecuteTime": {
     "end_time": "2022-10-03T12:34:33.057496Z",
     "start_time": "2022-10-03T12:34:32.890704Z"
    }
   },
   "outputs": [],
   "source": [
    "#Create Services Dataframe with all LODs\n",
    "df_list = []\n",
    "\n",
    "for x in list(powerset(['cs_product_group','reporting_services_geo','account_segment'])):\n",
    "    group = ['snapshot_date','close_yr_q','quarter_number','day_of_q'] + x\n",
    "    data = services_df.copy().groupby(by=group).sum().reset_index()\n",
    "    s = ''\n",
    "    if 'reporting_services_geo' in x:\n",
    "        s += 'Geo, '\n",
    "    else:\n",
    "        s += 'Global, '\n",
    "        data['reporting_services_geo'] = 'Global'\n",
    "        \n",
    "    if 'cs_product_group' in x:\n",
    "        s += 'GLS/GPS, '\n",
    "    else:\n",
    "        s += 'Services, '\n",
    "        data['cs_product_group'] = 'SERVICES'\n",
    "        \n",
    "    if 'account_segment' in x:\n",
    "        s += 'Segment'\n",
    "    else:\n",
    "        s += 'All Segments'\n",
    "        data['account_segment'] = 'All Segments'\n",
    "        \n",
    "    data['level_of_detail'] = s\n",
    "    df_list.append(data)\n",
    "    \n",
    "df_final_services = pd.concat(df_list)"
   ]
  },
  {
   "cell_type": "code",
   "execution_count": 9,
   "id": "surprising-defense",
   "metadata": {
    "ExecuteTime": {
     "end_time": "2022-10-03T12:34:47.003208Z",
     "start_time": "2022-10-03T12:34:33.059080Z"
    }
   },
   "outputs": [],
   "source": [
    "#Calculate Multipliers & Forecasts\n",
    "df_final_services['multiplier'] = np.where((df_final_services['final_syb']-df_final_services['closed_syb'])<0,0,((df_final_services['final_syb']-df_final_services['closed_syb'])/df_final_services['open_pipe']))\n",
    "df_final_services['multiplier'] = df_final_services['multiplier'].fillna(0)\n",
    "\n",
    "df_final_services = df_final_services.sort_values(['cs_product_group','reporting_services_geo','account_segment','quarter_number','day_of_q','close_yr_q'])\n",
    "df_final_services['multiplier_ma_2y'] = df_final_services.groupby(by=['cs_product_group','reporting_services_geo','account_segment','quarter_number','day_of_q'])['multiplier'].transform(lambda x: x.rolling(2,1).mean())\n",
    "df_final_services['forecast_2y'] = df_final_services['closed_syb'] + df_final_services['multiplier_ma_2y'] * df_final_services['open_pipe']\n",
    "df_final_services['ape_2y'] = abs(df_final_services['forecast_2y']-df_final_services['final_syb'])/df_final_services['final_syb']\n",
    "\n",
    "df_final_services = df_final_services.sort_values(['cs_product_group','reporting_services_geo','account_segment','day_of_q','close_yr_q'])\n",
    "df_final_services['multiplier_ma_4q'] = df_final_services.groupby(by=['cs_product_group','reporting_services_geo','account_segment','day_of_q'])['multiplier'].transform(lambda x: x.rolling(4,1).mean())\n",
    "df_final_services['forecast_4q'] = df_final_services['closed_syb'] + df_final_services['multiplier_ma_4q'] * df_final_services['open_pipe']\n",
    "df_final_services['ape_4q'] = abs(df_final_services['forecast_4q']-df_final_services['final_syb'])/df_final_services['final_syb']"
   ]
  },
  {
   "cell_type": "markdown",
   "id": "parliamentary-slope",
   "metadata": {},
   "source": [
    "## Run All TAM Forecasts"
   ]
  },
  {
   "cell_type": "code",
   "execution_count": 10,
   "id": "strong-airport",
   "metadata": {
    "ExecuteTime": {
     "end_time": "2022-10-03T12:34:47.045367Z",
     "start_time": "2022-10-03T12:34:47.004740Z"
    }
   },
   "outputs": [],
   "source": [
    "#Filter Data to TAM Only, Merge Data\n",
    "tam_pipe = pipe.copy()[pipe['cs_product_group'].isin(['TAM'])].groupby(by=['snapshot_date','cs_product_group','reporting_services_geo','close_yr_q','day_of_q']).sum().reset_index()\n",
    "tam_actuals = actuals.copy()[actuals['cs_product_group'].isin(['TAM'])].groupby(by=['cs_product_group','reporting_services_geo','close_yr_q']).sum().reset_index()\n",
    "tam_targets = tam_targets.copy()\n",
    "tam_actuals\n",
    "tam_df = tam_pipe.merge(tam_actuals,how='left',\n",
    "                                  left_on=['cs_product_group','close_yr_q','reporting_services_geo'],\n",
    "                                 right_on=['cs_product_group','close_yr_q','reporting_services_geo'])\n",
    "tam_df = tam_df.merge(tam_targets,how='left',\n",
    "                                left_on=['cs_product_group','close_yr_q','reporting_services_geo'],\n",
    "                                 right_on=['cs_product_group','date_qtr','geo'])\n",
    "tam_df['final_syb'] = np.where(tam_df['snapshot_date']>=quarter_start,tam_df['target_syb'],tam_df['actual_syb'])\n",
    "tam_df['quarter_number'] = tam_df['close_yr_q'].str[-1:]\n",
    "tam_df = tam_df[['snapshot_date','cs_product_group','reporting_services_geo',\n",
    "                           'close_yr_q','quarter_number','day_of_q','closed_syb','commit_syb','bestcase_syb',\n",
    "                           'pipeline_syb','open_pipe','final_syb']]"
   ]
  },
  {
   "cell_type": "code",
   "execution_count": 11,
   "id": "preliminary-scientist",
   "metadata": {
    "ExecuteTime": {
     "end_time": "2022-10-03T12:34:47.073356Z",
     "start_time": "2022-10-03T12:34:47.046868Z"
    }
   },
   "outputs": [],
   "source": [
    "#Create TAM Dataframe with all LODs\n",
    "df_list = []\n",
    "\n",
    "for x in [[], ['reporting_services_geo']]:\n",
    "    group = ['snapshot_date','close_yr_q','quarter_number','day_of_q','cs_product_group'] + x\n",
    "    data = tam_df.copy().groupby(by=group).sum().reset_index()\n",
    "    s = ''\n",
    "    if 'reporting_services_geo' in x:\n",
    "        s += 'Geo, '\n",
    "    else:\n",
    "        s += 'Global, '\n",
    "        data['reporting_services_geo'] = 'Global'\n",
    "        \n",
    "    if 'cs_product_group' in x:\n",
    "        s += 'GLS/GPS, '\n",
    "    else:\n",
    "        s += 'TAM, '\n",
    "        data['cs_product_group'] = 'TAM'\n",
    "        \n",
    "    if 'account_segment' in x:\n",
    "        s += 'Segment'\n",
    "    else:\n",
    "        s += 'All Segments'\n",
    "        data['account_segment'] = 'All Segments'\n",
    "        \n",
    "    data['level_of_detail'] = s\n",
    "    df_list.append(data)\n",
    "    \n",
    "df_final_tam = pd.concat(df_list)"
   ]
  },
  {
   "cell_type": "code",
   "execution_count": 12,
   "id": "found-classics",
   "metadata": {
    "ExecuteTime": {
     "end_time": "2022-10-03T12:34:48.269385Z",
     "start_time": "2022-10-03T12:34:47.074821Z"
    }
   },
   "outputs": [],
   "source": [
    "#Calculate Multipliers & Forecasts\n",
    "df_final_tam['multiplier'] = np.where((df_final_tam['final_syb']-df_final_tam['closed_syb'])<0,0,((df_final_tam['final_syb']-df_final_tam['closed_syb'])/df_final_tam['open_pipe']))\n",
    "df_final_tam['multiplier'] = df_final_tam['multiplier'].fillna(0)\n",
    "\n",
    "df_final_tam = df_final_tam.sort_values(['cs_product_group','reporting_services_geo','account_segment','quarter_number','day_of_q','close_yr_q'])\n",
    "df_final_tam['multiplier_ma_2y'] = df_final_tam.groupby(by=['cs_product_group','reporting_services_geo','account_segment','quarter_number','day_of_q'])['multiplier'].transform(lambda x: x.rolling(2,1).mean())\n",
    "df_final_tam['forecast_2y'] = df_final_tam['closed_syb'] + df_final_tam['multiplier_ma_2y'] * df_final_tam['open_pipe']\n",
    "df_final_tam['ape_2y'] = abs(df_final_tam['forecast_2y']-df_final_tam['final_syb'])/df_final_tam['final_syb']\n",
    "\n",
    "df_final_tam = df_final_tam.sort_values(['cs_product_group','reporting_services_geo','account_segment','day_of_q','close_yr_q'])\n",
    "df_final_tam['multiplier_ma_4q'] = df_final_tam.groupby(by=['cs_product_group','reporting_services_geo','account_segment','day_of_q'])['multiplier'].transform(lambda x: x.rolling(4,1).mean())\n",
    "df_final_tam['forecast_4q'] = df_final_tam['closed_syb'] + df_final_tam['multiplier_ma_4q'] * df_final_tam['open_pipe']\n",
    "df_final_tam['ape_4q'] = abs(df_final_tam['forecast_4q']-df_final_tam['final_syb'])/df_final_tam['final_syb']"
   ]
  },
  {
   "cell_type": "code",
   "execution_count": 13,
   "id": "colored-rabbit",
   "metadata": {
    "ExecuteTime": {
     "end_time": "2022-10-03T12:34:48.344928Z",
     "start_time": "2022-10-03T12:34:48.270864Z"
    }
   },
   "outputs": [
    {
     "data": {
      "text/html": [
       "<div>\n",
       "<style scoped>\n",
       "    .dataframe tbody tr th:only-of-type {\n",
       "        vertical-align: middle;\n",
       "    }\n",
       "\n",
       "    .dataframe tbody tr th {\n",
       "        vertical-align: top;\n",
       "    }\n",
       "\n",
       "    .dataframe thead th {\n",
       "        text-align: right;\n",
       "    }\n",
       "</style>\n",
       "<table border=\"1\" class=\"dataframe\">\n",
       "  <thead>\n",
       "    <tr style=\"text-align: right;\">\n",
       "      <th></th>\n",
       "      <th>snapshot_date</th>\n",
       "      <th>close_yr_q</th>\n",
       "      <th>quarter_number</th>\n",
       "      <th>day_of_q</th>\n",
       "      <th>closed_syb</th>\n",
       "      <th>commit_syb</th>\n",
       "      <th>bestcase_syb</th>\n",
       "      <th>pipeline_syb</th>\n",
       "      <th>open_pipe</th>\n",
       "      <th>final_syb</th>\n",
       "      <th>...</th>\n",
       "      <th>cs_product_group</th>\n",
       "      <th>account_segment</th>\n",
       "      <th>level_of_detail</th>\n",
       "      <th>multiplier</th>\n",
       "      <th>multiplier_ma_2y</th>\n",
       "      <th>forecast_2y</th>\n",
       "      <th>ape_2y</th>\n",
       "      <th>multiplier_ma_4q</th>\n",
       "      <th>forecast_4q</th>\n",
       "      <th>ape_4q</th>\n",
       "    </tr>\n",
       "  </thead>\n",
       "  <tbody>\n",
       "    <tr>\n",
       "      <th>0</th>\n",
       "      <td>2020-04-01</td>\n",
       "      <td>2020-Q2</td>\n",
       "      <td>2</td>\n",
       "      <td>1</td>\n",
       "      <td>0.0</td>\n",
       "      <td>2275254.0</td>\n",
       "      <td>10833262.0</td>\n",
       "      <td>27145573.0</td>\n",
       "      <td>40254089.0</td>\n",
       "      <td>13204194.0</td>\n",
       "      <td>...</td>\n",
       "      <td>CONSULTING</td>\n",
       "      <td>All Segments</td>\n",
       "      <td>Geo, GLS/GPS, All Segments</td>\n",
       "      <td>0.328021</td>\n",
       "      <td>0.328021</td>\n",
       "      <td>1.320419e+07</td>\n",
       "      <td>1.410647e-16</td>\n",
       "      <td>0.328021</td>\n",
       "      <td>1.320419e+07</td>\n",
       "      <td>1.410647e-16</td>\n",
       "    </tr>\n",
       "    <tr>\n",
       "      <th>910</th>\n",
       "      <td>2020-07-01</td>\n",
       "      <td>2020-Q3</td>\n",
       "      <td>3</td>\n",
       "      <td>1</td>\n",
       "      <td>57065.0</td>\n",
       "      <td>3500904.0</td>\n",
       "      <td>8382577.0</td>\n",
       "      <td>34346412.0</td>\n",
       "      <td>46229893.0</td>\n",
       "      <td>20542702.0</td>\n",
       "      <td>...</td>\n",
       "      <td>CONSULTING</td>\n",
       "      <td>All Segments</td>\n",
       "      <td>Geo, GLS/GPS, All Segments</td>\n",
       "      <td>0.443125</td>\n",
       "      <td>0.443125</td>\n",
       "      <td>2.054270e+07</td>\n",
       "      <td>0.000000e+00</td>\n",
       "      <td>0.385573</td>\n",
       "      <td>1.788208e+07</td>\n",
       "      <td>1.295169e-01</td>\n",
       "    </tr>\n",
       "    <tr>\n",
       "      <th>1830</th>\n",
       "      <td>2020-10-01</td>\n",
       "      <td>2020-Q4</td>\n",
       "      <td>4</td>\n",
       "      <td>1</td>\n",
       "      <td>79120.0</td>\n",
       "      <td>3915957.0</td>\n",
       "      <td>8006227.0</td>\n",
       "      <td>36021770.0</td>\n",
       "      <td>47943954.0</td>\n",
       "      <td>18019844.0</td>\n",
       "      <td>...</td>\n",
       "      <td>CONSULTING</td>\n",
       "      <td>All Segments</td>\n",
       "      <td>Geo, GLS/GPS, All Segments</td>\n",
       "      <td>0.374202</td>\n",
       "      <td>0.374202</td>\n",
       "      <td>1.801984e+07</td>\n",
       "      <td>0.000000e+00</td>\n",
       "      <td>0.381783</td>\n",
       "      <td>1.838330e+07</td>\n",
       "      <td>2.016972e-02</td>\n",
       "    </tr>\n",
       "    <tr>\n",
       "      <th>2750</th>\n",
       "      <td>2021-01-01</td>\n",
       "      <td>2021-Q1</td>\n",
       "      <td>1</td>\n",
       "      <td>1</td>\n",
       "      <td>0.0</td>\n",
       "      <td>2399814.0</td>\n",
       "      <td>6134271.0</td>\n",
       "      <td>35661315.0</td>\n",
       "      <td>44195400.0</td>\n",
       "      <td>18315250.0</td>\n",
       "      <td>...</td>\n",
       "      <td>CONSULTING</td>\n",
       "      <td>All Segments</td>\n",
       "      <td>Geo, GLS/GPS, All Segments</td>\n",
       "      <td>0.414415</td>\n",
       "      <td>0.414415</td>\n",
       "      <td>1.831525e+07</td>\n",
       "      <td>0.000000e+00</td>\n",
       "      <td>0.389941</td>\n",
       "      <td>1.723360e+07</td>\n",
       "      <td>5.905752e-02</td>\n",
       "    </tr>\n",
       "    <tr>\n",
       "      <th>3650</th>\n",
       "      <td>2021-04-01</td>\n",
       "      <td>2021-Q2</td>\n",
       "      <td>2</td>\n",
       "      <td>1</td>\n",
       "      <td>0.0</td>\n",
       "      <td>1816555.0</td>\n",
       "      <td>13305099.0</td>\n",
       "      <td>39669382.0</td>\n",
       "      <td>54791036.0</td>\n",
       "      <td>23058049.0</td>\n",
       "      <td>...</td>\n",
       "      <td>CONSULTING</td>\n",
       "      <td>All Segments</td>\n",
       "      <td>Geo, GLS/GPS, All Segments</td>\n",
       "      <td>0.420836</td>\n",
       "      <td>0.374429</td>\n",
       "      <td>2.051533e+07</td>\n",
       "      <td>1.102745e-01</td>\n",
       "      <td>0.413145</td>\n",
       "      <td>2.263663e+07</td>\n",
       "      <td>1.827660e-02</td>\n",
       "    </tr>\n",
       "    <tr>\n",
       "      <th>...</th>\n",
       "      <td>...</td>\n",
       "      <td>...</td>\n",
       "      <td>...</td>\n",
       "      <td>...</td>\n",
       "      <td>...</td>\n",
       "      <td>...</td>\n",
       "      <td>...</td>\n",
       "      <td>...</td>\n",
       "      <td>...</td>\n",
       "      <td>...</td>\n",
       "      <td>...</td>\n",
       "      <td>...</td>\n",
       "      <td>...</td>\n",
       "      <td>...</td>\n",
       "      <td>...</td>\n",
       "      <td>...</td>\n",
       "      <td>...</td>\n",
       "      <td>...</td>\n",
       "      <td>...</td>\n",
       "      <td>...</td>\n",
       "      <td>...</td>\n",
       "    </tr>\n",
       "    <tr>\n",
       "      <th>914</th>\n",
       "      <td>2020-09-30</td>\n",
       "      <td>2020-Q3</td>\n",
       "      <td>3</td>\n",
       "      <td>92</td>\n",
       "      <td>2311960.0</td>\n",
       "      <td>0.0</td>\n",
       "      <td>0.0</td>\n",
       "      <td>0.0</td>\n",
       "      <td>0.0</td>\n",
       "      <td>2311960.0</td>\n",
       "      <td>...</td>\n",
       "      <td>TAM</td>\n",
       "      <td>All Segments</td>\n",
       "      <td>Geo, TAM, All Segments</td>\n",
       "      <td>0.000000</td>\n",
       "      <td>0.000000</td>\n",
       "      <td>2.311960e+06</td>\n",
       "      <td>0.000000e+00</td>\n",
       "      <td>0.000000</td>\n",
       "      <td>2.311960e+06</td>\n",
       "      <td>0.000000e+00</td>\n",
       "    </tr>\n",
       "    <tr>\n",
       "      <th>1374</th>\n",
       "      <td>2020-12-31</td>\n",
       "      <td>2020-Q4</td>\n",
       "      <td>4</td>\n",
       "      <td>92</td>\n",
       "      <td>1978451.0</td>\n",
       "      <td>0.0</td>\n",
       "      <td>0.0</td>\n",
       "      <td>0.0</td>\n",
       "      <td>0.0</td>\n",
       "      <td>1978451.0</td>\n",
       "      <td>...</td>\n",
       "      <td>TAM</td>\n",
       "      <td>All Segments</td>\n",
       "      <td>Geo, TAM, All Segments</td>\n",
       "      <td>0.000000</td>\n",
       "      <td>0.000000</td>\n",
       "      <td>1.978451e+06</td>\n",
       "      <td>0.000000e+00</td>\n",
       "      <td>0.000000</td>\n",
       "      <td>1.978451e+06</td>\n",
       "      <td>0.000000e+00</td>\n",
       "    </tr>\n",
       "    <tr>\n",
       "      <th>2739</th>\n",
       "      <td>2021-09-30</td>\n",
       "      <td>2021-Q3</td>\n",
       "      <td>3</td>\n",
       "      <td>92</td>\n",
       "      <td>2848980.0</td>\n",
       "      <td>0.0</td>\n",
       "      <td>0.0</td>\n",
       "      <td>0.0</td>\n",
       "      <td>0.0</td>\n",
       "      <td>2848980.0</td>\n",
       "      <td>...</td>\n",
       "      <td>TAM</td>\n",
       "      <td>All Segments</td>\n",
       "      <td>Geo, TAM, All Segments</td>\n",
       "      <td>0.000000</td>\n",
       "      <td>0.000000</td>\n",
       "      <td>2.848980e+06</td>\n",
       "      <td>0.000000e+00</td>\n",
       "      <td>0.000000</td>\n",
       "      <td>2.848980e+06</td>\n",
       "      <td>0.000000e+00</td>\n",
       "    </tr>\n",
       "    <tr>\n",
       "      <th>3199</th>\n",
       "      <td>2021-12-31</td>\n",
       "      <td>2021-Q4</td>\n",
       "      <td>4</td>\n",
       "      <td>92</td>\n",
       "      <td>1972762.0</td>\n",
       "      <td>0.0</td>\n",
       "      <td>114782.0</td>\n",
       "      <td>0.0</td>\n",
       "      <td>114782.0</td>\n",
       "      <td>1972762.0</td>\n",
       "      <td>...</td>\n",
       "      <td>TAM</td>\n",
       "      <td>All Segments</td>\n",
       "      <td>Geo, TAM, All Segments</td>\n",
       "      <td>0.000000</td>\n",
       "      <td>0.000000</td>\n",
       "      <td>1.972762e+06</td>\n",
       "      <td>0.000000e+00</td>\n",
       "      <td>0.000000</td>\n",
       "      <td>1.972762e+06</td>\n",
       "      <td>0.000000e+00</td>\n",
       "    </tr>\n",
       "    <tr>\n",
       "      <th>4564</th>\n",
       "      <td>2022-09-30</td>\n",
       "      <td>2022-Q3</td>\n",
       "      <td>3</td>\n",
       "      <td>92</td>\n",
       "      <td>4437043.0</td>\n",
       "      <td>150114.0</td>\n",
       "      <td>0.0</td>\n",
       "      <td>0.0</td>\n",
       "      <td>150114.0</td>\n",
       "      <td>4504363.0</td>\n",
       "      <td>...</td>\n",
       "      <td>TAM</td>\n",
       "      <td>All Segments</td>\n",
       "      <td>Geo, TAM, All Segments</td>\n",
       "      <td>0.448459</td>\n",
       "      <td>0.224230</td>\n",
       "      <td>4.470703e+06</td>\n",
       "      <td>7.472755e-03</td>\n",
       "      <td>0.112115</td>\n",
       "      <td>4.453873e+06</td>\n",
       "      <td>1.120913e-02</td>\n",
       "    </tr>\n",
       "  </tbody>\n",
       "</table>\n",
       "<p>68663 rows × 21 columns</p>\n",
       "</div>"
      ],
      "text/plain": [
       "     snapshot_date close_yr_q quarter_number  day_of_q  closed_syb  \\\n",
       "0       2020-04-01    2020-Q2              2         1         0.0   \n",
       "910     2020-07-01    2020-Q3              3         1     57065.0   \n",
       "1830    2020-10-01    2020-Q4              4         1     79120.0   \n",
       "2750    2021-01-01    2021-Q1              1         1         0.0   \n",
       "3650    2021-04-01    2021-Q2              2         1         0.0   \n",
       "...            ...        ...            ...       ...         ...   \n",
       "914     2020-09-30    2020-Q3              3        92   2311960.0   \n",
       "1374    2020-12-31    2020-Q4              4        92   1978451.0   \n",
       "2739    2021-09-30    2021-Q3              3        92   2848980.0   \n",
       "3199    2021-12-31    2021-Q4              4        92   1972762.0   \n",
       "4564    2022-09-30    2022-Q3              3        92   4437043.0   \n",
       "\n",
       "      commit_syb  bestcase_syb  pipeline_syb   open_pipe   final_syb  ...  \\\n",
       "0      2275254.0    10833262.0    27145573.0  40254089.0  13204194.0  ...   \n",
       "910    3500904.0     8382577.0    34346412.0  46229893.0  20542702.0  ...   \n",
       "1830   3915957.0     8006227.0    36021770.0  47943954.0  18019844.0  ...   \n",
       "2750   2399814.0     6134271.0    35661315.0  44195400.0  18315250.0  ...   \n",
       "3650   1816555.0    13305099.0    39669382.0  54791036.0  23058049.0  ...   \n",
       "...          ...           ...           ...         ...         ...  ...   \n",
       "914          0.0           0.0           0.0         0.0   2311960.0  ...   \n",
       "1374         0.0           0.0           0.0         0.0   1978451.0  ...   \n",
       "2739         0.0           0.0           0.0         0.0   2848980.0  ...   \n",
       "3199         0.0      114782.0           0.0    114782.0   1972762.0  ...   \n",
       "4564    150114.0           0.0           0.0    150114.0   4504363.0  ...   \n",
       "\n",
       "     cs_product_group account_segment             level_of_detail multiplier  \\\n",
       "0          CONSULTING    All Segments  Geo, GLS/GPS, All Segments   0.328021   \n",
       "910        CONSULTING    All Segments  Geo, GLS/GPS, All Segments   0.443125   \n",
       "1830       CONSULTING    All Segments  Geo, GLS/GPS, All Segments   0.374202   \n",
       "2750       CONSULTING    All Segments  Geo, GLS/GPS, All Segments   0.414415   \n",
       "3650       CONSULTING    All Segments  Geo, GLS/GPS, All Segments   0.420836   \n",
       "...               ...             ...                         ...        ...   \n",
       "914               TAM    All Segments      Geo, TAM, All Segments   0.000000   \n",
       "1374              TAM    All Segments      Geo, TAM, All Segments   0.000000   \n",
       "2739              TAM    All Segments      Geo, TAM, All Segments   0.000000   \n",
       "3199              TAM    All Segments      Geo, TAM, All Segments   0.000000   \n",
       "4564              TAM    All Segments      Geo, TAM, All Segments   0.448459   \n",
       "\n",
       "      multiplier_ma_2y   forecast_2y        ape_2y  multiplier_ma_4q  \\\n",
       "0             0.328021  1.320419e+07  1.410647e-16          0.328021   \n",
       "910           0.443125  2.054270e+07  0.000000e+00          0.385573   \n",
       "1830          0.374202  1.801984e+07  0.000000e+00          0.381783   \n",
       "2750          0.414415  1.831525e+07  0.000000e+00          0.389941   \n",
       "3650          0.374429  2.051533e+07  1.102745e-01          0.413145   \n",
       "...                ...           ...           ...               ...   \n",
       "914           0.000000  2.311960e+06  0.000000e+00          0.000000   \n",
       "1374          0.000000  1.978451e+06  0.000000e+00          0.000000   \n",
       "2739          0.000000  2.848980e+06  0.000000e+00          0.000000   \n",
       "3199          0.000000  1.972762e+06  0.000000e+00          0.000000   \n",
       "4564          0.224230  4.470703e+06  7.472755e-03          0.112115   \n",
       "\n",
       "       forecast_4q        ape_4q  \n",
       "0     1.320419e+07  1.410647e-16  \n",
       "910   1.788208e+07  1.295169e-01  \n",
       "1830  1.838330e+07  2.016972e-02  \n",
       "2750  1.723360e+07  5.905752e-02  \n",
       "3650  2.263663e+07  1.827660e-02  \n",
       "...            ...           ...  \n",
       "914   2.311960e+06  0.000000e+00  \n",
       "1374  1.978451e+06  0.000000e+00  \n",
       "2739  2.848980e+06  0.000000e+00  \n",
       "3199  1.972762e+06  0.000000e+00  \n",
       "4564  4.453873e+06  1.120913e-02  \n",
       "\n",
       "[68663 rows x 21 columns]"
      ]
     },
     "execution_count": 13,
     "metadata": {},
     "output_type": "execute_result"
    }
   ],
   "source": [
    "df_final = pd.concat([df_final_services,df_final_tam])\n",
    "df_final"
   ]
  },
  {
   "cell_type": "code",
   "execution_count": 14,
   "id": "adverse-linux",
   "metadata": {
    "ExecuteTime": {
     "end_time": "2022-10-03T12:35:02.751494Z",
     "start_time": "2022-10-03T12:34:48.346275Z"
    }
   },
   "outputs": [
    {
     "name": "stdout",
     "output_type": "stream",
     "text": [
      "Using default environment variable DS_RS_USER\n",
      "Using default environment variable DS_RS_PASS\n",
      "Using ~/.aws/credentials to obtain aws access keys\n",
      "Using ~/.aws/s3_folder to obtain s3 folder\n",
      "bucket where dataframe is to be copied: rh-stage-ssa\n",
      "keypath of file to be copied:gfa_svc/pipeline_multiplier_forecast.gzip\n",
      "Writing to disk...\n",
      "Updating table services_finance.pipeline_multiplier_forecast\n",
      "Full S3 url: rh-stage-ssa/gfa_svc/pipeline_multiplier_forecast.gzip\n",
      "Using default environment variable DS_RS_USER\n",
      "Using default environment variable DS_RS_PASS\n",
      "Querying Redshift...\n",
      "drop table services_finance.pipeline_multiplier_forecast;\n",
      "\n",
      "CREATE TABLE services_finance.pipeline_multiplier_forecast (\n",
      "\tsnapshot_date TIMESTAMP WITHOUT TIME ZONE, \n",
      "\tclose_yr_q TEXT, \n",
      "\tquarter_number TEXT, \n",
      "\tday_of_q BIGINT, \n",
      "\tclosed_syb FLOAT(53), \n",
      "\tcommit_syb FLOAT(53), \n",
      "\tbestcase_syb FLOAT(53), \n",
      "\tpipeline_syb FLOAT(53), \n",
      "\topen_pipe FLOAT(53), \n",
      "\tfinal_syb FLOAT(53), \n",
      "\treporting_services_geo TEXT, \n",
      "\tcs_product_group TEXT, \n",
      "\taccount_segment TEXT, \n",
      "\tlevel_of_detail TEXT, \n",
      "\tmultiplier FLOAT(53), \n",
      "\tmultiplier_ma_2y FLOAT(53), \n",
      "\tforecast_2y FLOAT(53), \n",
      "\tape_2y FLOAT(53), \n",
      "\tmultiplier_ma_4q FLOAT(53), \n",
      "\tforecast_4q FLOAT(53), \n",
      "\tape_4q FLOAT(53)\n",
      ")\n",
      "\n",
      ";\n",
      "grant ALL on services_finance.pipeline_multiplier_forecast\n",
      "to group services_finance_rw; commit;grant SELECT on services_finance.pipeline_multiplier_forecast\n",
      "to group services_finance_ro; commit;\n",
      "deleting file from S3: pipeline_multiplier_forecast.gzip\n",
      "bucket where file is to be removed: rh-stage-ssa\n",
      "keypath of file to be removed:gfa_svc/pipeline_multiplier_forecast.gzip\n"
     ]
    }
   ],
   "source": [
    "#Write to redshift\n",
    "df_final.to_redshift('pipeline_multiplier_forecast',if_exists=\"replace\",truncate=True,schema='services_finance')"
   ]
  },
  {
   "cell_type": "code",
   "execution_count": 15,
   "id": "boxed-berlin",
   "metadata": {
    "ExecuteTime": {
     "end_time": "2022-10-03T12:35:02.858227Z",
     "start_time": "2022-10-03T12:35:02.752858Z"
    }
   },
   "outputs": [
    {
     "data": {
      "text/plain": [
       "Timestamp('2022-10-03 00:00:00')"
      ]
     },
     "execution_count": 15,
     "metadata": {},
     "output_type": "execute_result"
    }
   ],
   "source": [
    "max(df_final.snapshot_date)"
   ]
  },
  {
   "cell_type": "code",
   "execution_count": null,
   "id": "opposite-illinois",
   "metadata": {},
   "outputs": [],
   "source": []
  }
 ],
 "metadata": {
  "finalized": {
   "timestamp": 1664801509057,
   "trusted": true
  },
  "kernelspec": {
   "display_name": "Python 3",
   "language": "python",
   "name": "python3"
  },
  "language_info": {
   "codemirror_mode": {
    "name": "ipython",
    "version": 3
   },
   "file_extension": ".py",
   "mimetype": "text/x-python",
   "name": "python",
   "nbconvert_exporter": "python",
   "pygments_lexer": "ipython3",
   "version": "3.6.8"
  },
  "toc": {
   "base_numbering": 1,
   "nav_menu": {},
   "number_sections": true,
   "sideBar": true,
   "skip_h1_title": false,
   "title_cell": "Table of Contents",
   "title_sidebar": "Contents",
   "toc_cell": false,
   "toc_position": {},
   "toc_section_display": true,
   "toc_window_display": false
  }
 },
 "nbformat": 4,
 "nbformat_minor": 5
}
